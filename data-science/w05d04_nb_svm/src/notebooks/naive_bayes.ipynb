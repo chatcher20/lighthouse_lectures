{
 "cells": [
  {
   "cell_type": "code",
   "execution_count": 6,
   "id": "43419048-0b93-42e5-8725-3f86dd2be591",
   "metadata": {},
   "outputs": [
    {
     "data": {
      "text/html": [
       "<div>\n",
       "<style scoped>\n",
       "    .dataframe tbody tr th:only-of-type {\n",
       "        vertical-align: middle;\n",
       "    }\n",
       "\n",
       "    .dataframe tbody tr th {\n",
       "        vertical-align: top;\n",
       "    }\n",
       "\n",
       "    .dataframe thead th {\n",
       "        text-align: right;\n",
       "    }\n",
       "</style>\n",
       "<table border=\"1\" class=\"dataframe\">\n",
       "  <thead>\n",
       "    <tr style=\"text-align: right;\">\n",
       "      <th></th>\n",
       "      <th>is_hungry</th>\n",
       "      <th>has_poptarts</th>\n",
       "      <th>is_driving</th>\n",
       "      <th>will_eat</th>\n",
       "    </tr>\n",
       "  </thead>\n",
       "  <tbody>\n",
       "    <tr>\n",
       "      <th>0</th>\n",
       "      <td>yes</td>\n",
       "      <td>yes</td>\n",
       "      <td>NaN</td>\n",
       "      <td>yes</td>\n",
       "    </tr>\n",
       "    <tr>\n",
       "      <th>1</th>\n",
       "      <td>yes</td>\n",
       "      <td>no</td>\n",
       "      <td>NaN</td>\n",
       "      <td>yes</td>\n",
       "    </tr>\n",
       "    <tr>\n",
       "      <th>2</th>\n",
       "      <td>yes</td>\n",
       "      <td>no</td>\n",
       "      <td>yes</td>\n",
       "      <td>no</td>\n",
       "    </tr>\n",
       "    <tr>\n",
       "      <th>3</th>\n",
       "      <td>no</td>\n",
       "      <td>yes</td>\n",
       "      <td>NaN</td>\n",
       "      <td>no</td>\n",
       "    </tr>\n",
       "    <tr>\n",
       "      <th>4</th>\n",
       "      <td>no</td>\n",
       "      <td>no</td>\n",
       "      <td>NaN</td>\n",
       "      <td>no</td>\n",
       "    </tr>\n",
       "    <tr>\n",
       "      <th>5</th>\n",
       "      <td>yes</td>\n",
       "      <td>no</td>\n",
       "      <td>NaN</td>\n",
       "      <td>yes</td>\n",
       "    </tr>\n",
       "    <tr>\n",
       "      <th>6</th>\n",
       "      <td>yes</td>\n",
       "      <td>yes</td>\n",
       "      <td>NaN</td>\n",
       "      <td>yes</td>\n",
       "    </tr>\n",
       "    <tr>\n",
       "      <th>7</th>\n",
       "      <td>no</td>\n",
       "      <td>no</td>\n",
       "      <td>NaN</td>\n",
       "      <td>no</td>\n",
       "    </tr>\n",
       "    <tr>\n",
       "      <th>8</th>\n",
       "      <td>yes</td>\n",
       "      <td>no</td>\n",
       "      <td>NaN</td>\n",
       "      <td>yes</td>\n",
       "    </tr>\n",
       "    <tr>\n",
       "      <th>9</th>\n",
       "      <td>yes</td>\n",
       "      <td>yes</td>\n",
       "      <td>NaN</td>\n",
       "      <td>yes</td>\n",
       "    </tr>\n",
       "    <tr>\n",
       "      <th>10</th>\n",
       "      <td>no</td>\n",
       "      <td>yes</td>\n",
       "      <td>NaN</td>\n",
       "      <td>yes</td>\n",
       "    </tr>\n",
       "  </tbody>\n",
       "</table>\n",
       "</div>"
      ],
      "text/plain": [
       "   is_hungry has_poptarts is_driving will_eat\n",
       "0        yes          yes        NaN      yes\n",
       "1        yes           no        NaN      yes\n",
       "2        yes           no        yes       no\n",
       "3         no          yes        NaN       no\n",
       "4         no           no        NaN       no\n",
       "5        yes           no        NaN      yes\n",
       "6        yes          yes        NaN      yes\n",
       "7         no           no        NaN       no\n",
       "8        yes           no        NaN      yes\n",
       "9        yes          yes        NaN      yes\n",
       "10        no          yes        NaN      yes"
      ]
     },
     "execution_count": 6,
     "metadata": {},
     "output_type": "execute_result"
    }
   ],
   "source": [
    "import pandas as pd\n",
    "import numpy as np\n",
    "\n",
    "eat = pd.read_csv(\"../data/does_james_eat.csv\")\n",
    "eat"
   ]
  },
  {
   "cell_type": "markdown",
   "id": "538bfa1b-91bf-4589-ad28-f5010ca66575",
   "metadata": {},
   "source": [
    "$$ P(c|x) = \\frac{P(x|c)\\times{P(c)}}{P(x)}$$\n",
    "\n",
    "$ P(c|x) $: posterior probability; probability of a class (c) given a predictor (x)\n",
    "- example: probability that I will eat given that I am hungry\n",
    "\n",
    "$ P(x|c) $: likelihood; probability of the predictor (x) given the class (c)\n",
    "- example: probability that I am hungry given that I will eat\n",
    "\n",
    "$ P(c) $: prior probability of the class\n",
    "\n",
    "$ P(x) $: prior probability of the predictor\n"
   ]
  },
  {
   "cell_type": "markdown",
   "id": "e6c3b5f5-2c96-479c-b7c2-265eedb482ce",
   "metadata": {},
   "source": [
    "## Let's try this out\n",
    "what is the probability I will eat given that I am hungry?\n",
    "\n",
    "$$ P(eat|hungry) = \\frac{P(hungry|eat)\\times{P(eat)}}{P(hungry)} $$"
   ]
  },
  {
   "cell_type": "code",
   "execution_count": 7,
   "id": "2cbb6c4f-a14a-4450-99aa-434681ce7ec4",
   "metadata": {},
   "outputs": [
    {
     "name": "stdout",
     "output_type": "stream",
     "text": [
      "0.8571428571428571\n"
     ]
    }
   ],
   "source": [
    "prob_will_eat = 7 / 11\n",
    "prob_hungry_given_will_eat = 6/7\n",
    "prob_hungry = 7/11 # probability of hungry given will eat + probability of hungry give won't eat\n",
    "\n",
    "prob_will_eat_given_hungry = prob_will_eat * prob_hungry_given_will_eat/prob_hungry\n",
    "print(prob_will_eat_given_hungry)"
   ]
  },
  {
   "cell_type": "markdown",
   "id": "61d7490f-c037-4806-b0cf-45c03d3bdffa",
   "metadata": {},
   "source": [
    "what is the probability I won't eat given that I am hungry?\n",
    "\n",
    "$$ P(wont eat|hungry) = \\frac{P(hungry|wont eat)\\times{P(wont eat)}}{P(hungry)} $$"
   ]
  },
  {
   "cell_type": "code",
   "execution_count": 10,
   "id": "aad13716-8267-4b68-a1f0-41239b28dea2",
   "metadata": {},
   "outputs": [
    {
     "name": "stdout",
     "output_type": "stream",
     "text": [
      "0.14285714285714288\n"
     ]
    }
   ],
   "source": [
    "prob_wont_eat = 4 / 11\n",
    "prob_hungry_given_wont_eat = 1/4\n",
    "prob_hungry = 7/11 # probability of hungry given will eat + probability of hungry give won't eat\n",
    "\n",
    "prob_wont_eat_given_hungry = prob_wont_eat * prob_hungry_given_wont_eat/prob_hungry\n",
    "print(prob_wont_eat_given_hungry)"
   ]
  },
  {
   "cell_type": "markdown",
   "id": "f64239df-0e91-4765-a653-4347857d6288",
   "metadata": {},
   "source": [
    "note: sometimes the prior probability of the predictor $ P(x) $ is difficult to calculate so it will often be removed in the calculation. However, what remains is not a probability but a score that is proportional to the posterior probability  $ P(c|x) $ \n",
    "\n",
    "In other words,\n",
    "\n",
    "$$  P(x|c)\\times{P(c)} \\propto P(c|x) $$"
   ]
  },
  {
   "cell_type": "code",
   "execution_count": null,
   "id": "2a380ef0-7a99-4c9a-8ab1-bc3b65e7e562",
   "metadata": {},
   "outputs": [],
   "source": []
  }
 ],
 "metadata": {
  "kernelspec": {
   "display_name": "Python 3 (ipykernel)",
   "language": "python",
   "name": "python3"
  },
  "language_info": {
   "codemirror_mode": {
    "name": "ipython",
    "version": 3
   },
   "file_extension": ".py",
   "mimetype": "text/x-python",
   "name": "python",
   "nbconvert_exporter": "python",
   "pygments_lexer": "ipython3",
   "version": "3.8.10"
  }
 },
 "nbformat": 4,
 "nbformat_minor": 5
}
