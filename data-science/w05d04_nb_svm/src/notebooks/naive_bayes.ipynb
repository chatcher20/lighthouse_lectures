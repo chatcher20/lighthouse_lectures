{
 "cells": [
  {
   "cell_type": "markdown",
   "id": "4bf3f771-e6a8-414f-99b7-b441ef26fb56",
   "metadata": {},
   "source": [
    "# Naive Bayes\n",
    "\n"
   ]
  },
  {
   "cell_type": "code",
   "execution_count": 24,
   "id": "43419048-0b93-42e5-8725-3f86dd2be591",
   "metadata": {},
   "outputs": [
    {
     "data": {
      "text/html": [
       "<div>\n",
       "<style scoped>\n",
       "    .dataframe tbody tr th:only-of-type {\n",
       "        vertical-align: middle;\n",
       "    }\n",
       "\n",
       "    .dataframe tbody tr th {\n",
       "        vertical-align: top;\n",
       "    }\n",
       "\n",
       "    .dataframe thead th {\n",
       "        text-align: right;\n",
       "    }\n",
       "</style>\n",
       "<table border=\"1\" class=\"dataframe\">\n",
       "  <thead>\n",
       "    <tr style=\"text-align: right;\">\n",
       "      <th></th>\n",
       "      <th>is_hungry</th>\n",
       "      <th>has_poptarts</th>\n",
       "      <th>is_driving</th>\n",
       "      <th>will_eat</th>\n",
       "    </tr>\n",
       "  </thead>\n",
       "  <tbody>\n",
       "    <tr>\n",
       "      <th>0</th>\n",
       "      <td>yes</td>\n",
       "      <td>yes</td>\n",
       "      <td>no</td>\n",
       "      <td>yes</td>\n",
       "    </tr>\n",
       "    <tr>\n",
       "      <th>1</th>\n",
       "      <td>yes</td>\n",
       "      <td>no</td>\n",
       "      <td>no</td>\n",
       "      <td>yes</td>\n",
       "    </tr>\n",
       "    <tr>\n",
       "      <th>2</th>\n",
       "      <td>yes</td>\n",
       "      <td>no</td>\n",
       "      <td>yes</td>\n",
       "      <td>no</td>\n",
       "    </tr>\n",
       "    <tr>\n",
       "      <th>3</th>\n",
       "      <td>no</td>\n",
       "      <td>yes</td>\n",
       "      <td>yes</td>\n",
       "      <td>no</td>\n",
       "    </tr>\n",
       "    <tr>\n",
       "      <th>4</th>\n",
       "      <td>no</td>\n",
       "      <td>no</td>\n",
       "      <td>yes</td>\n",
       "      <td>no</td>\n",
       "    </tr>\n",
       "    <tr>\n",
       "      <th>5</th>\n",
       "      <td>yes</td>\n",
       "      <td>no</td>\n",
       "      <td>no</td>\n",
       "      <td>yes</td>\n",
       "    </tr>\n",
       "    <tr>\n",
       "      <th>6</th>\n",
       "      <td>yes</td>\n",
       "      <td>yes</td>\n",
       "      <td>no</td>\n",
       "      <td>yes</td>\n",
       "    </tr>\n",
       "    <tr>\n",
       "      <th>7</th>\n",
       "      <td>no</td>\n",
       "      <td>no</td>\n",
       "      <td>yes</td>\n",
       "      <td>no</td>\n",
       "    </tr>\n",
       "    <tr>\n",
       "      <th>8</th>\n",
       "      <td>yes</td>\n",
       "      <td>no</td>\n",
       "      <td>no</td>\n",
       "      <td>yes</td>\n",
       "    </tr>\n",
       "    <tr>\n",
       "      <th>9</th>\n",
       "      <td>yes</td>\n",
       "      <td>yes</td>\n",
       "      <td>no</td>\n",
       "      <td>yes</td>\n",
       "    </tr>\n",
       "    <tr>\n",
       "      <th>10</th>\n",
       "      <td>no</td>\n",
       "      <td>yes</td>\n",
       "      <td>no</td>\n",
       "      <td>yes</td>\n",
       "    </tr>\n",
       "  </tbody>\n",
       "</table>\n",
       "</div>"
      ],
      "text/plain": [
       "   is_hungry has_poptarts is_driving will_eat\n",
       "0        yes          yes         no      yes\n",
       "1        yes           no         no      yes\n",
       "2        yes           no        yes       no\n",
       "3         no          yes        yes       no\n",
       "4         no           no        yes       no\n",
       "5        yes           no         no      yes\n",
       "6        yes          yes         no      yes\n",
       "7         no           no        yes       no\n",
       "8        yes           no         no      yes\n",
       "9        yes          yes         no      yes\n",
       "10        no          yes         no      yes"
      ]
     },
     "execution_count": 24,
     "metadata": {},
     "output_type": "execute_result"
    }
   ],
   "source": [
    "import pandas as pd\n",
    "import numpy as np\n",
    "\n",
    "eat = pd.read_csv(\"../data/does_james_eat.csv\")\n",
    "eat"
   ]
  },
  {
   "cell_type": "markdown",
   "id": "538bfa1b-91bf-4589-ad28-f5010ca66575",
   "metadata": {},
   "source": [
    "## Bayes Theorem\n",
    "\n",
    "$$ P(c|x) = \\frac{P(x|c)\\times{P(c)}}{P(x)}$$\n",
    "\n",
    "$ P(c|x) $: posterior probability; probability of a class (c) given a predictor (x)\n",
    "- example: probability that I will eat given that I am hungry\n",
    "\n",
    "$ P(x|c) $: likelihood; probability of the predictor (x) given the class (c)\n",
    "- example: probability that I am hungry given that I will eat\n",
    "\n",
    "$ P(c) $: prior probability of the class\n",
    "\n",
    "$ P(x) $: prior probability of the predictor\n",
    "\n"
   ]
  },
  {
   "cell_type": "markdown",
   "id": "e6c3b5f5-2c96-479c-b7c2-265eedb482ce",
   "metadata": {},
   "source": [
    "## Let's try this out\n",
    "what is the probability I will eat given that I am hungry?\n",
    "\n",
    "$$ P(eat|hungry) = \\frac{P(hungry|eat)\\times{P(eat)}}{P(hungry)} $$"
   ]
  },
  {
   "cell_type": "code",
   "execution_count": 25,
   "id": "2cbb6c4f-a14a-4450-99aa-434681ce7ec4",
   "metadata": {},
   "outputs": [
    {
     "name": "stdout",
     "output_type": "stream",
     "text": [
      "0.8571428571428571\n"
     ]
    }
   ],
   "source": [
    "prob_will_eat = 7 / 11\n",
    "prob_hungry_given_will_eat = 6/7\n",
    "prob_hungry = 7/11 # probability of hungry given will eat + probability of hungry give won't eat\n",
    "\n",
    "prob_will_eat_given_hungry = prob_will_eat * prob_hungry_given_will_eat/prob_hungry\n",
    "print(prob_will_eat_given_hungry)"
   ]
  },
  {
   "cell_type": "markdown",
   "id": "61d7490f-c037-4806-b0cf-45c03d3bdffa",
   "metadata": {},
   "source": [
    "what is the probability I won't eat given that I am hungry?\n",
    "\n",
    "$$ P(wont eat|hungry) = \\frac{P(hungry|wont eat)\\times{P(wont eat)}}{P(hungry)} $$"
   ]
  },
  {
   "cell_type": "code",
   "execution_count": 26,
   "id": "aad13716-8267-4b68-a1f0-41239b28dea2",
   "metadata": {},
   "outputs": [
    {
     "name": "stdout",
     "output_type": "stream",
     "text": [
      "0.14285714285714288\n"
     ]
    }
   ],
   "source": [
    "prob_wont_eat = 4 / 11\n",
    "prob_hungry_given_wont_eat = 1/4\n",
    "prob_hungry = 7/11 # probability of hungry given will eat + probability of hungry give won't eat\n",
    "\n",
    "prob_wont_eat_given_hungry = prob_wont_eat * prob_hungry_given_wont_eat/prob_hungry\n",
    "print(prob_wont_eat_given_hungry)"
   ]
  },
  {
   "cell_type": "markdown",
   "id": "f64239df-0e91-4765-a653-4347857d6288",
   "metadata": {},
   "source": [
    "note: sometimes the prior probability of the predictor $ P(x) $ is difficult to calculate so it will often be removed in the calculation. However, what remains is not a probability but a score that is proportional to the posterior probability  $ P(c|x) $ \n",
    "\n",
    "In other words,\n",
    "\n",
    "$$  P(x|c)\\times{P(c)} \\propto P(c|x) $$\n",
    "\n",
    "so where as we would previously pick the target class given I am hungry that has the highest probability, instead I will take that with the higher score."
   ]
  },
  {
   "cell_type": "code",
   "execution_count": 27,
   "id": "2a380ef0-7a99-4c9a-8ab1-bc3b65e7e562",
   "metadata": {},
   "outputs": [
    {
     "name": "stdout",
     "output_type": "stream",
     "text": [
      "score proportional to P(eat | hungry): 0.5454545454545454\n",
      "score proportional to P(wont eat | hungry): 0.09090909090909091\n"
     ]
    }
   ],
   "source": [
    "prob_will_eat = 7 / 11\n",
    "prob_hungry_given_will_eat = 6/7\n",
    "\n",
    "score_will_eat_given_hungry = prob_will_eat * prob_hungry_given_will_eat\n",
    "print(\"score proportional to P(eat | hungry):\", score_will_eat_given_hungry)\n",
    "\n",
    "prob_wont_eat = 4 / 11\n",
    "prob_hungry_given_wont_eat = 1/4\n",
    "\n",
    "score_wont_eat_given_hungry = prob_wont_eat * prob_hungry_given_wont_eat\n",
    "print(\"score proportional to P(wont eat | hungry):\", score_wont_eat_given_hungry)"
   ]
  },
  {
   "cell_type": "code",
   "execution_count": 28,
   "id": "4997b9b0-88f3-46d9-b752-6591d52c02f5",
   "metadata": {},
   "outputs": [
    {
     "name": "stdout",
     "output_type": "stream",
     "text": [
      "will eat\n",
      "   is_hungry has_poptarts is_driving will_eat\n",
      "0        yes          yes         no      yes\n",
      "1        yes           no         no      yes\n",
      "5        yes           no         no      yes\n",
      "6        yes          yes         no      yes\n",
      "8        yes           no         no      yes\n",
      "9        yes          yes         no      yes\n",
      "10        no          yes         no      yes\n",
      "won't eat\n",
      "  is_hungry has_poptarts is_driving will_eat\n",
      "2       yes           no        yes       no\n",
      "3        no          yes        yes       no\n",
      "4        no           no        yes       no\n",
      "7        no           no        yes       no\n"
     ]
    }
   ],
   "source": [
    "buffer = eat['will_eat'] == 'yes'\n",
    "print(\"will eat\")\n",
    "print(eat[buffer])\n",
    "\n",
    "print(\"won't eat\")\n",
    "print(eat[~buffer])"
   ]
  },
  {
   "cell_type": "markdown",
   "id": "e5dee2fa-d056-4451-bb07-c20c9bc080d0",
   "metadata": {},
   "source": [
    "What if the question becomes what is prediction (eat or won't eat) given multiple inputs such as hungry and having poptarts?\n",
    "\n",
    "Well, then it just becomes\n",
    "\n",
    "$$ p(eat | X) \\propto p(hungry | eat) \\times p(poptarts | eat) \\times p(eat)$$\n",
    "\n",
    "and\n",
    "\n",
    "$$ p(wonteat | X) \\propto p(hungry | wont eat) \\times p(poptarts | wont eat) \\times p(wont eat)$$\n",
    "\n",
    "- $ p(hungry | eat) = \\frac{6}{7}$\n",
    "- $ p(poptarts | eat) = \\frac{4}{7}$\n",
    "- $ p(driving | eat) = \\frac{0}{7}$\n",
    "\n",
    "- $ p(hungry | wont eat) = \\frac{1}{4}$\n",
    "- $ p(poptarts | wont eat) = \\frac{1}{4} $\n",
    "- $ p(driving | wont eat) = \\frac{4}{4} $ \n",
    "\n",
    "- $ p(eat) =  \\frac{7}{11} $\n",
    "- $ p(wont eat) = \\frac{4}{11} $\n",
    "\n",
    "\n",
    "so let's plug those values in to see if given a new observation with the inputs of hungry = 'yes' and poptarts = 'yes' what we would should predict with respect whether or not eating food will happen.\n",
    "\n",
    "\n"
   ]
  },
  {
   "cell_type": "code",
   "execution_count": 29,
   "id": "5c44bac6-e9c8-4725-b710-bfa5c6bc6b5e",
   "metadata": {},
   "outputs": [
    {
     "name": "stdout",
     "output_type": "stream",
     "text": [
      "score will eat: 0.3116883116883116\n",
      "score won't eat: 0.022727272727272728\n"
     ]
    }
   ],
   "source": [
    "prob_will_eat = 7 / 11\n",
    "prob_wont_eat = 4 / 11\n",
    "prob_hungry_given_will_eat = 6/7\n",
    "prob_poptart_given_will_eat = 4/7\n",
    "prob_hungry_given_wont_eat = 1/4\n",
    "prob_poptart_given_wont_eat = 1/4\n",
    "\n",
    "score_will_eat = prob_will_eat * prob_hungry_given_will_eat * prob_poptart_given_will_eat\n",
    "score_wont_eat = prob_wont_eat * prob_hungry_given_wont_eat * prob_poptart_given_wont_eat\n",
    "\n",
    "print('score will eat:', score_will_eat)\n",
    "print(\"score won't eat:\", score_wont_eat)\n",
    "\n"
   ]
  },
  {
   "cell_type": "markdown",
   "id": "19ae1d74-2f0e-4b31-b4f8-a73c730c8988",
   "metadata": {},
   "source": [
    "Okay, what if we take all of the inputs? \n",
    "\n"
   ]
  },
  {
   "cell_type": "code",
   "execution_count": 30,
   "id": "c89ffbfa-d9ba-4eae-a3ea-dfed0cdaaf09",
   "metadata": {},
   "outputs": [
    {
     "name": "stdout",
     "output_type": "stream",
     "text": [
      "score will eat: 0.0\n",
      "score won't eat: 0.022727272727272728\n"
     ]
    }
   ],
   "source": [
    "prob_will_eat = 7 / 11\n",
    "prob_wont_eat = 4 / 11\n",
    "prob_hungry_given_will_eat = 6/7\n",
    "prob_poptart_given_will_eat = 4/7\n",
    "prob_driving_given_will_eat = 0/4\n",
    "prob_hungry_given_wont_eat = 1/4\n",
    "prob_poptart_given_wont_eat = 1/4\n",
    "prob_driving_given_wont_eat = 4/4\n",
    "\n",
    "score_will_eat = prob_will_eat * prob_hungry_given_will_eat * prob_poptart_given_will_eat * prob_driving_given_will_eat\n",
    "score_wont_eat = prob_wont_eat * prob_hungry_given_wont_eat * prob_poptart_given_wont_eat * prob_driving_given_wont_eat\n",
    "\n",
    "print('score will eat:', score_will_eat)\n",
    "print(\"score won't eat:\", score_wont_eat)"
   ]
  },
  {
   "cell_type": "markdown",
   "id": "ff09468e-c551-418e-b3ae-66769a120e2f",
   "metadata": {},
   "source": [
    "**Why? Why did we get 0 for our score for `will eat`?**\n",
    "\n",
    "Well, it has to do with $ P(driving | eat)$. This value is $ 0 $ and $ 0 $ multiplied by any other value is $ 0 $. Well, how do we prevent this? Well, there is a value $ \\alpha $ which we can use to ensure that we don't run into these $ 0 $ counts. We can set this to $1$"
   ]
  },
  {
   "cell_type": "code",
   "execution_count": 31,
   "id": "f65c78c8-1712-479a-b8f5-133290e4092c",
   "metadata": {},
   "outputs": [
    {
     "name": "stdout",
     "output_type": "stream",
     "text": [
      "score will eat: 0.07291666666666666\n",
      "score won't eat: 0.06666666666666668\n"
     ]
    }
   ],
   "source": [
    "prob_will_eat = 8/ 12\n",
    "prob_wont_eat = 5 / 12\n",
    "prob_hungry_given_will_eat = 7/8\n",
    "prob_poptart_given_will_eat = 5/8\n",
    "prob_driving_given_will_eat = 1/5 \n",
    "prob_hungry_given_wont_eat = 2/5\n",
    "prob_poptart_given_wont_eat = 2/5\n",
    "prob_driving_given_wont_eat = 5/5\n",
    "\n",
    "score_will_eat = prob_will_eat * prob_hungry_given_will_eat * prob_poptart_given_will_eat * prob_driving_given_will_eat\n",
    "score_wont_eat = prob_wont_eat * prob_hungry_given_wont_eat * prob_poptart_given_wont_eat * prob_driving_given_wont_eat\n",
    "\n",
    "print('score will eat:', score_will_eat)\n",
    "print(\"score won't eat:\", score_wont_eat)"
   ]
  },
  {
   "cell_type": "markdown",
   "id": "b2e67ec8-9067-454f-bd22-ba2ad4bda728",
   "metadata": {},
   "source": [
    "## Naive Bayes\n",
    "\n",
    "- For years, best spam filtering methods used naive Bayes.\n",
    "- Our first probabilistic classifier where we **think of learning as a problem of statistical inference**.\n",
    "\n",
    "- Classification technique based on Bayes’ Theorem **with an assumption of independence among predictors** - hence the Naive. \n",
    "    - The presence of a particular feature in a class is unrelated to the presence of any other feature.\n",
    "    - This is like saying: If you are hungry the probability of the symptoms(growling stomach, mouth watering, weakness,...) manifesting are independant \n",
    "\n",
    "E.g. You receive a spam mail that contains the words \"Money\", \"URGENT!\", \"Prize!\". Even if these features depend on each other or others, all of these properties independently contribute to the probability that this email is SPAM.\n",
    "\n",
    "- Naive Bayes is easy to build and useful for very large data sets. \n",
    "\n",
    "- Naive Bayes outperforms even highly sophisticated classification methods and works well with text data."
   ]
  },
  {
   "cell_type": "code",
   "execution_count": null,
   "id": "a38e1f50-b2ad-427a-b34e-a85e20f73534",
   "metadata": {},
   "outputs": [],
   "source": []
  }
 ],
 "metadata": {
  "kernelspec": {
   "display_name": "Python 3 (ipykernel)",
   "language": "python",
   "name": "python3"
  },
  "language_info": {
   "codemirror_mode": {
    "name": "ipython",
    "version": 3
   },
   "file_extension": ".py",
   "mimetype": "text/x-python",
   "name": "python",
   "nbconvert_exporter": "python",
   "pygments_lexer": "ipython3",
   "version": "3.8.10"
  }
 },
 "nbformat": 4,
 "nbformat_minor": 5
}
