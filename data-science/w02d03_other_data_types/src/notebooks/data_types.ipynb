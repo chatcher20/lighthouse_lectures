{
 "cells": [
  {
   "cell_type": "markdown",
   "id": "2a9f5177-c639-4472-8ab3-a7c4c171157f",
   "metadata": {},
   "source": [
    "# Types of data that are useful to data scientists\n",
    "\n",
    "| Data Type | Example |Uses |\n",
    "| :--------- | :------- | :---- |\n",
    "| text | tweets, scripts, books | sentiment analysis, text generation, other natural language processing |\n",
    "| JSON or XML | parsing APIs | gathering data, trend alalysis, forecasting... |\n",
    "| HTML | web scraping | gathering web based document data, social media contacts... |\n",
    "| images | computer vision | self-driving cars, medical imaging diagnostics |\n",
    "\n",
    "## For today\n",
    "\n",
    "- JSON: `json`\n",
    "- XML: `xml`\n",
    "- HTML: `xml` (`BeautifulSoup` not covered but good to be aware of)\n"
   ]
  },
  {
   "cell_type": "markdown",
   "id": "ed25bc2c-bcb8-463a-8a0b-88e7c8c8b0a1",
   "metadata": {},
   "source": [
    "### But first... a refresher on tabular data\n",
    "**... and a small introduction to reading in `xlsx` files**"
   ]
  },
  {
   "cell_type": "code",
   "execution_count": 1,
   "id": "0aafcd29-fca4-4d5d-ad02-b6753f327e55",
   "metadata": {},
   "outputs": [],
   "source": [
    "import pandas as pd"
   ]
  },
  {
   "cell_type": "code",
   "execution_count": 74,
   "id": "a9154041-481f-49fa-afc1-5613c9a90295",
   "metadata": {},
   "outputs": [
    {
     "data": {
      "text/html": [
       "<div>\n",
       "<style scoped>\n",
       "    .dataframe tbody tr th:only-of-type {\n",
       "        vertical-align: middle;\n",
       "    }\n",
       "\n",
       "    .dataframe tbody tr th {\n",
       "        vertical-align: top;\n",
       "    }\n",
       "\n",
       "    .dataframe thead th {\n",
       "        text-align: right;\n",
       "    }\n",
       "</style>\n",
       "<table border=\"1\" class=\"dataframe\">\n",
       "  <thead>\n",
       "    <tr style=\"text-align: right;\">\n",
       "      <th></th>\n",
       "      <th>name</th>\n",
       "      <th>age</th>\n",
       "      <th>weight</th>\n",
       "    </tr>\n",
       "  </thead>\n",
       "  <tbody>\n",
       "    <tr>\n",
       "      <th>0</th>\n",
       "      <td>pippa</td>\n",
       "      <td>6</td>\n",
       "      <td>8</td>\n",
       "    </tr>\n",
       "    <tr>\n",
       "      <th>1</th>\n",
       "      <td>prairie</td>\n",
       "      <td>6</td>\n",
       "      <td>5</td>\n",
       "    </tr>\n",
       "    <tr>\n",
       "      <th>2</th>\n",
       "      <td>pippa</td>\n",
       "      <td>24</td>\n",
       "      <td>12</td>\n",
       "    </tr>\n",
       "    <tr>\n",
       "      <th>3</th>\n",
       "      <td>prairie</td>\n",
       "      <td>24</td>\n",
       "      <td>10</td>\n",
       "    </tr>\n",
       "  </tbody>\n",
       "</table>\n",
       "</div>"
      ],
      "text/plain": [
       "      name  age  weight\n",
       "0    pippa    6       8\n",
       "1  prairie    6       5\n",
       "2    pippa   24      12\n",
       "3  prairie   24      10"
      ]
     },
     "execution_count": 74,
     "metadata": {},
     "output_type": "execute_result"
    }
   ],
   "source": [
    "# using pandas to construct a dataframe from an xlsx file\n",
    "puppies = pd.read_excel(\"../data/puppies.xlsx\")\n",
    "puppies.head()"
   ]
  },
  {
   "cell_type": "code",
   "execution_count": 75,
   "id": "d7ff01e0-c834-449d-af42-14c2f93f60c7",
   "metadata": {},
   "outputs": [
    {
     "data": {
      "text/html": [
       "<div>\n",
       "<style scoped>\n",
       "    .dataframe tbody tr th:only-of-type {\n",
       "        vertical-align: middle;\n",
       "    }\n",
       "\n",
       "    .dataframe tbody tr th {\n",
       "        vertical-align: top;\n",
       "    }\n",
       "\n",
       "    .dataframe thead th {\n",
       "        text-align: right;\n",
       "    }\n",
       "</style>\n",
       "<table border=\"1\" class=\"dataframe\">\n",
       "  <thead>\n",
       "    <tr style=\"text-align: right;\">\n",
       "      <th></th>\n",
       "      <th>name</th>\n",
       "      <th>age</th>\n",
       "      <th>weight</th>\n",
       "    </tr>\n",
       "  </thead>\n",
       "  <tbody>\n",
       "    <tr>\n",
       "      <th>0</th>\n",
       "      <td>pippa</td>\n",
       "      <td>6</td>\n",
       "      <td>8</td>\n",
       "    </tr>\n",
       "    <tr>\n",
       "      <th>1</th>\n",
       "      <td>prairie</td>\n",
       "      <td>6</td>\n",
       "      <td>5</td>\n",
       "    </tr>\n",
       "    <tr>\n",
       "      <th>2</th>\n",
       "      <td>pippa</td>\n",
       "      <td>24</td>\n",
       "      <td>12</td>\n",
       "    </tr>\n",
       "    <tr>\n",
       "      <th>3</th>\n",
       "      <td>prairie</td>\n",
       "      <td>24</td>\n",
       "      <td>10</td>\n",
       "    </tr>\n",
       "  </tbody>\n",
       "</table>\n",
       "</div>"
      ],
      "text/plain": [
       "      name  age  weight\n",
       "0    pippa    6       8\n",
       "1  prairie    6       5\n",
       "2    pippa   24      12\n",
       "3  prairie   24      10"
      ]
     },
     "execution_count": 75,
     "metadata": {},
     "output_type": "execute_result"
    }
   ],
   "source": [
    "# what if our file actually has multiple sheets?\n",
    "puppies_weights = pd.read_excel(\"../data/puppies.xlsx\", sheet_name=\"Sheet1\")\n",
    "puppies_desc = pd.read_excel(\"../data/puppies.xlsx\", sheet_name=\"Sheet2\")\n",
    "\n",
    "puppies_weights"
   ]
  },
  {
   "cell_type": "code",
   "execution_count": 76,
   "id": "d5a694d3-2314-4494-a22d-0a8b9aafbbe4",
   "metadata": {},
   "outputs": [
    {
     "data": {
      "text/html": [
       "<div>\n",
       "<style scoped>\n",
       "    .dataframe tbody tr th:only-of-type {\n",
       "        vertical-align: middle;\n",
       "    }\n",
       "\n",
       "    .dataframe tbody tr th {\n",
       "        vertical-align: top;\n",
       "    }\n",
       "\n",
       "    .dataframe thead th {\n",
       "        text-align: right;\n",
       "    }\n",
       "</style>\n",
       "<table border=\"1\" class=\"dataframe\">\n",
       "  <thead>\n",
       "    <tr style=\"text-align: right;\">\n",
       "      <th></th>\n",
       "      <th>name</th>\n",
       "      <th>color</th>\n",
       "      <th>type</th>\n",
       "    </tr>\n",
       "  </thead>\n",
       "  <tbody>\n",
       "    <tr>\n",
       "      <th>0</th>\n",
       "      <td>pippa</td>\n",
       "      <td>white</td>\n",
       "      <td>mix</td>\n",
       "    </tr>\n",
       "    <tr>\n",
       "      <th>1</th>\n",
       "      <td>prairie</td>\n",
       "      <td>tri-color</td>\n",
       "      <td>mix</td>\n",
       "    </tr>\n",
       "    <tr>\n",
       "      <th>2</th>\n",
       "      <td>chewey</td>\n",
       "      <td>white</td>\n",
       "      <td>jack russel terrier</td>\n",
       "    </tr>\n",
       "  </tbody>\n",
       "</table>\n",
       "</div>"
      ],
      "text/plain": [
       "      name      color                 type\n",
       "0    pippa      white                  mix\n",
       "1  prairie  tri-color                  mix\n",
       "2   chewey      white  jack russel terrier"
      ]
     },
     "execution_count": 76,
     "metadata": {},
     "output_type": "execute_result"
    }
   ],
   "source": [
    "puppies_desc"
   ]
  },
  {
   "cell_type": "markdown",
   "id": "80ef08a2-c936-4777-8b6d-8df6c40b947c",
   "metadata": {},
   "source": [
    "# XML and HTML\n",
    "- `html`: hyper text markup language\n",
    "- `xml`: extensible markup language\n",
    "- hierarchical collections of elements\n",
    "- generally consists of an opening tag, content and closing tag\n",
    "\n",
    "Let's look at some HTML: [Wikipedia page for \"Dogs\"](https://en.wikipedia.org/wiki/Dog)\n",
    "\n",
    "\n",
    "Let's look at some XML:\n",
    "\n",
    "```xml\n",
    "<dog>\n",
    "    <name>Pippa</name>\n",
    "    <age>10</age>\n",
    "    <diet>\n",
    "        <fooditem>kibbles</fooditem>\n",
    "        <fooditem>pumpkin</fooditem>\n",
    "    </diet>\n",
    "</dog>\n",
    "```\n",
    "\n",
    "perhaps with attributes\n",
    "\n",
    "```xml\n",
    "<dog name=\"Pippa\" age=\"10\">\n",
    "    <diet>\n",
    "        <fooditem name=\"kibbles\"></fooditem>\n",
    "        <fooditem name=\"pumpkin\"></fooditem>  \n",
    "    </diet>\n",
    "</dog>\n",
    "```"
   ]
  },
  {
   "cell_type": "markdown",
   "id": "dbf44a80-5909-48cc-ba0a-cc1fd426da69",
   "metadata": {},
   "source": [
    "## Demo\n",
    "\n",
    "- data: `olympics.xml`\n",
    "- path: '/src/data/olympics.xml'\n",
    "- description: characteristics of several host countries of the Summer Olympic Games\n",
    "\n",
    "```xml\n",
    "<?xml version=\"1.0\"?>\n",
    "<data>\n",
    "  <country name=\"greece\">\n",
    "    <order>1</order>\n",
    "    <year>1896</year>\n",
    "    <nexthost name=\"france\"></nexthost>\n",
    "  </country>\n",
    "  <country name=\"united states of america\">\n",
    "    <order>3</order>\n",
    "    <year>1904</year>\n",
    "    <previoushost name=\"france\"></previoushost>\n",
    "    <nexthost name=\"england\"></nexthost>\n",
    "  </country>\n",
    "  <country name=\"australia\">\n",
    "    <order>27</order>\n",
    "    <year>2000</year>\n",
    "    <previoushost name=\"united states of america\"></previoushost>\n",
    "    <nexthost name=\"greece\"></nexthost>\n",
    "  </country>\n",
    "</data>\n",
    "```"
   ]
  },
  {
   "cell_type": "code",
   "execution_count": 70,
   "id": "e74077cb-0dd3-4809-815a-7a6960c56476",
   "metadata": {},
   "outputs": [
    {
     "data": {
      "text/plain": [
       "<xml.etree.ElementTree.ElementTree at 0x7f55089c7430>"
      ]
     },
     "execution_count": 70,
     "metadata": {},
     "output_type": "execute_result"
    }
   ],
   "source": [
    "# read in our data\n",
    "import xml.etree.ElementTree as et\n",
    "tree = et.parse('../data/olympics.xml')\n",
    "tree"
   ]
  },
  {
   "cell_type": "code",
   "execution_count": 71,
   "id": "3f459e93-8f0c-4701-be19-af05b43df741",
   "metadata": {},
   "outputs": [
    {
     "data": {
      "text/plain": [
       "<Element 'data' at 0x7f5508426c70>"
      ]
     },
     "execution_count": 71,
     "metadata": {},
     "output_type": "execute_result"
    }
   ],
   "source": [
    "# grab the root element of tree\n",
    "root = tree.getroot()\n",
    "root"
   ]
  },
  {
   "cell_type": "markdown",
   "id": "e029d097-5619-4bbd-a434-eed7a6cec994",
   "metadata": {},
   "source": [
    "we have a handle on the root element. How do we begin exploring?\n",
    "- what's the root element's tag?\n",
    "- does the root element have any attributes? \n",
    "- does the root element contain any children?\n",
    "- can we extend this knowledge?\n",
    "\n",
    "How do we find out more? Check the [docs](https://docs.python.org/3/library/xml.etree.elementtree.html)"
   ]
  },
  {
   "cell_type": "code",
   "execution_count": 72,
   "id": "27a73857-d7f7-4570-9f6f-445a7e7005fe",
   "metadata": {},
   "outputs": [
    {
     "name": "stdout",
     "output_type": "stream",
     "text": [
      "the root's tag is:  data\n",
      "the attributes of the root element:  {}\n",
      "the number of children of the root element:  3\n"
     ]
    }
   ],
   "source": [
    "# explore some of it's features\n",
    "print(\"the root's tag is: \", root.tag)\n",
    "print(\"the attributes of the root element: \", root.attrib)\n",
    "print(\"the number of children of the root element: \", len(root))"
   ]
  },
  {
   "cell_type": "code",
   "execution_count": 73,
   "id": "08a79a81-e498-4458-b01e-dd29fcf11955",
   "metadata": {},
   "outputs": [
    {
     "data": {
      "text/plain": [
       "<Element 'country' at 0x7f55085c39f0>"
      ]
     },
     "execution_count": 73,
     "metadata": {},
     "output_type": "execute_result"
    }
   ],
   "source": [
    "# root[0]\n",
    "root[1]"
   ]
  },
  {
   "cell_type": "markdown",
   "id": "6b2b2464-00a9-4704-a4c3-ad513c0bfbec",
   "metadata": {},
   "source": [
    "How might we go about displaying the attributes of each `country` tag?"
   ]
  },
  {
   "cell_type": "code",
   "execution_count": 55,
   "id": "2d03a006-908c-4c5c-b91a-2037a4d4646a",
   "metadata": {},
   "outputs": [
    {
     "name": "stdout",
     "output_type": "stream",
     "text": [
      "tag: country || attributes: {'name': 'greece'}\n",
      "tag: country || attributes: {'name': 'united states of america'}\n",
      "tag: country || attributes: {'name': 'australia'}\n"
     ]
    }
   ],
   "source": [
    "for idx in range(len(root)):\n",
    "    tag = root[idx].tag\n",
    "    attribute = root[idx].attrib\n",
    "    print(\"tag: {} || attributes: {}\".format(tag, attribute))"
   ]
  },
  {
   "cell_type": "code",
   "execution_count": 77,
   "id": "75995b6f-4585-42ab-af20-ff797e5460e1",
   "metadata": {},
   "outputs": [
    {
     "data": {
      "text/plain": [
       "'1896'"
      ]
     },
     "execution_count": 77,
     "metadata": {},
     "output_type": "execute_result"
    }
   ],
   "source": [
    "# grab the 0th country element\n",
    "first_country = root[0]\n",
    "\n",
    "# grab the 1th element from the first country and display its content \n",
    "first_country[1].text"
   ]
  },
  {
   "cell_type": "code",
   "execution_count": 68,
   "id": "d94e305a-19ba-4808-9776-bfcd84c37471",
   "metadata": {},
   "outputs": [
    {
     "data": {
      "text/plain": [
       "'1896'"
      ]
     },
     "execution_count": 68,
     "metadata": {},
     "output_type": "execute_result"
    }
   ],
   "source": []
  },
  {
   "cell_type": "code",
   "execution_count": null,
   "id": "d8dcc50f-5474-4061-9d1e-6ca54eda8980",
   "metadata": {},
   "outputs": [],
   "source": []
  }
 ],
 "metadata": {
  "kernelspec": {
   "display_name": "Python 3 (ipykernel)",
   "language": "python",
   "name": "python3"
  },
  "language_info": {
   "codemirror_mode": {
    "name": "ipython",
    "version": 3
   },
   "file_extension": ".py",
   "mimetype": "text/x-python",
   "name": "python",
   "nbconvert_exporter": "python",
   "pygments_lexer": "ipython3",
   "version": "3.8.10"
  }
 },
 "nbformat": 4,
 "nbformat_minor": 5
}
