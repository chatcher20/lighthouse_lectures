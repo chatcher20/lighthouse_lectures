{
 "cells": [
  {
   "cell_type": "markdown",
   "id": "2a9f5177-c639-4472-8ab3-a7c4c171157f",
   "metadata": {},
   "source": [
    "# Types of data that are useful to data scientists\n",
    "\n",
    "| Data Type | Example |Uses |\n",
    "| :--------- | :------- | :---- |\n",
    "| text | tweets, scripts, books | sentiment analysis, text generation, other natural language processing |\n",
    "| JSON or XML | parsing APIs | gathering data, trend alalysis, forecasting... |\n",
    "| HTML | web scraping | gathering web based document data, social media contacts... |\n",
    "| images | computer vision | self-driving cars, medical imaging diagnostics |\n",
    "\n",
    "## For today\n",
    "\n",
    "- JSON: `json`\n",
    "- XML: `xml`\n",
    "- HTML: `xml` (`BeautifulSoup` not covered but good to be aware of)\n"
   ]
  },
  {
   "cell_type": "code",
   "execution_count": 1,
   "id": "0aafcd29-fca4-4d5d-ad02-b6753f327e55",
   "metadata": {},
   "outputs": [],
   "source": [
    "import pandas as pd"
   ]
  },
  {
   "cell_type": "code",
   "execution_count": 2,
   "id": "a9154041-481f-49fa-afc1-5613c9a90295",
   "metadata": {},
   "outputs": [
    {
     "data": {
      "text/html": [
       "<div>\n",
       "<style scoped>\n",
       "    .dataframe tbody tr th:only-of-type {\n",
       "        vertical-align: middle;\n",
       "    }\n",
       "\n",
       "    .dataframe tbody tr th {\n",
       "        vertical-align: top;\n",
       "    }\n",
       "\n",
       "    .dataframe thead th {\n",
       "        text-align: right;\n",
       "    }\n",
       "</style>\n",
       "<table border=\"1\" class=\"dataframe\">\n",
       "  <thead>\n",
       "    <tr style=\"text-align: right;\">\n",
       "      <th></th>\n",
       "      <th>name</th>\n",
       "      <th>age</th>\n",
       "      <th>weight</th>\n",
       "    </tr>\n",
       "  </thead>\n",
       "  <tbody>\n",
       "    <tr>\n",
       "      <th>0</th>\n",
       "      <td>pippa</td>\n",
       "      <td>6</td>\n",
       "      <td>8</td>\n",
       "    </tr>\n",
       "    <tr>\n",
       "      <th>1</th>\n",
       "      <td>prairie</td>\n",
       "      <td>6</td>\n",
       "      <td>5</td>\n",
       "    </tr>\n",
       "    <tr>\n",
       "      <th>2</th>\n",
       "      <td>pippa</td>\n",
       "      <td>24</td>\n",
       "      <td>12</td>\n",
       "    </tr>\n",
       "    <tr>\n",
       "      <th>3</th>\n",
       "      <td>prairie</td>\n",
       "      <td>24</td>\n",
       "      <td>10</td>\n",
       "    </tr>\n",
       "  </tbody>\n",
       "</table>\n",
       "</div>"
      ],
      "text/plain": [
       "      name  age  weight\n",
       "0    pippa    6       8\n",
       "1  prairie    6       5\n",
       "2    pippa   24      12\n",
       "3  prairie   24      10"
      ]
     },
     "execution_count": 2,
     "metadata": {},
     "output_type": "execute_result"
    }
   ],
   "source": [
    "puppies = pd.read_excel(\"../data/puppies.xlsx\")\n",
    "puppies.head()"
   ]
  },
  {
   "cell_type": "code",
   "execution_count": 8,
   "id": "d7ff01e0-c834-449d-af42-14c2f93f60c7",
   "metadata": {},
   "outputs": [
    {
     "data": {
      "text/html": [
       "<div>\n",
       "<style scoped>\n",
       "    .dataframe tbody tr th:only-of-type {\n",
       "        vertical-align: middle;\n",
       "    }\n",
       "\n",
       "    .dataframe tbody tr th {\n",
       "        vertical-align: top;\n",
       "    }\n",
       "\n",
       "    .dataframe thead th {\n",
       "        text-align: right;\n",
       "    }\n",
       "</style>\n",
       "<table border=\"1\" class=\"dataframe\">\n",
       "  <thead>\n",
       "    <tr style=\"text-align: right;\">\n",
       "      <th></th>\n",
       "      <th>name</th>\n",
       "      <th>age</th>\n",
       "      <th>weight</th>\n",
       "    </tr>\n",
       "  </thead>\n",
       "  <tbody>\n",
       "    <tr>\n",
       "      <th>0</th>\n",
       "      <td>pippa</td>\n",
       "      <td>6</td>\n",
       "      <td>8</td>\n",
       "    </tr>\n",
       "    <tr>\n",
       "      <th>1</th>\n",
       "      <td>prairie</td>\n",
       "      <td>6</td>\n",
       "      <td>5</td>\n",
       "    </tr>\n",
       "    <tr>\n",
       "      <th>2</th>\n",
       "      <td>pippa</td>\n",
       "      <td>24</td>\n",
       "      <td>12</td>\n",
       "    </tr>\n",
       "    <tr>\n",
       "      <th>3</th>\n",
       "      <td>prairie</td>\n",
       "      <td>24</td>\n",
       "      <td>10</td>\n",
       "    </tr>\n",
       "  </tbody>\n",
       "</table>\n",
       "</div>"
      ],
      "text/plain": [
       "      name  age  weight\n",
       "0    pippa    6       8\n",
       "1  prairie    6       5\n",
       "2    pippa   24      12\n",
       "3  prairie   24      10"
      ]
     },
     "execution_count": 8,
     "metadata": {},
     "output_type": "execute_result"
    }
   ],
   "source": [
    "puppies_weights = pd.read_excel(\"../data/puppies.xlsx\", sheet_name=\"Sheet1\")\n",
    "puppies_desc = pd.read_excel(\"../data/puppies.xlsx\", sheet_name=\"Sheet2\")\n",
    "\n",
    "puppies_weights"
   ]
  },
  {
   "cell_type": "code",
   "execution_count": 9,
   "id": "d5a694d3-2314-4494-a22d-0a8b9aafbbe4",
   "metadata": {},
   "outputs": [
    {
     "data": {
      "text/html": [
       "<div>\n",
       "<style scoped>\n",
       "    .dataframe tbody tr th:only-of-type {\n",
       "        vertical-align: middle;\n",
       "    }\n",
       "\n",
       "    .dataframe tbody tr th {\n",
       "        vertical-align: top;\n",
       "    }\n",
       "\n",
       "    .dataframe thead th {\n",
       "        text-align: right;\n",
       "    }\n",
       "</style>\n",
       "<table border=\"1\" class=\"dataframe\">\n",
       "  <thead>\n",
       "    <tr style=\"text-align: right;\">\n",
       "      <th></th>\n",
       "      <th>name</th>\n",
       "      <th>color</th>\n",
       "      <th>type</th>\n",
       "    </tr>\n",
       "  </thead>\n",
       "  <tbody>\n",
       "    <tr>\n",
       "      <th>0</th>\n",
       "      <td>pippa</td>\n",
       "      <td>white</td>\n",
       "      <td>mix</td>\n",
       "    </tr>\n",
       "    <tr>\n",
       "      <th>1</th>\n",
       "      <td>prairie</td>\n",
       "      <td>tri-color</td>\n",
       "      <td>mix</td>\n",
       "    </tr>\n",
       "    <tr>\n",
       "      <th>2</th>\n",
       "      <td>chewey</td>\n",
       "      <td>white</td>\n",
       "      <td>jack russel terrier</td>\n",
       "    </tr>\n",
       "  </tbody>\n",
       "</table>\n",
       "</div>"
      ],
      "text/plain": [
       "      name      color                 type\n",
       "0    pippa      white                  mix\n",
       "1  prairie  tri-color                  mix\n",
       "2   chewey      white  jack russel terrier"
      ]
     },
     "execution_count": 9,
     "metadata": {},
     "output_type": "execute_result"
    }
   ],
   "source": [
    "puppies_desc"
   ]
  },
  {
   "cell_type": "markdown",
   "id": "80ef08a2-c936-4777-8b6d-8df6c40b947c",
   "metadata": {},
   "source": [
    "# XML and HTML\n",
    "- `html`: hyper text markup language\n",
    "- `xml`: extensible markup language\n",
    "- hierarchical collections of elements\n",
    "- generally consists of an opening tag, content and closing tag\n",
    "\n",
    "Let's look at some HTML: [Wikipedia page for \"Dogs\"](https://en.wikipedia.org/wiki/Dog)\n",
    "\n",
    "\n",
    "Let's look at some XML:\n",
    "\n",
    "```xml\n",
    "<dog>\n",
    "    <name>Pippa</name>\n",
    "    <age>10</age>\n",
    "    <diet>\n",
    "        <fooditem>kibbles</fooditem>\n",
    "        <fooditem>pumpkin</fooditem>\n",
    "    </diet>\n",
    "</dog>\n",
    "```\n",
    "\n",
    "perhaps with attributes\n",
    "\n",
    "```xml\n",
    "<dog name=\"Pippa\" age=\"10\">\n",
    "    <diet>\n",
    "        <fooditem name=\"kibbles\"></fooditem>\n",
    "        <fooditem name=\"pumpkin\"></fooditem>  \n",
    "    </diet>\n",
    "</dog>\n",
    "```"
   ]
  },
  {
   "cell_type": "code",
   "execution_count": null,
   "id": "e74077cb-0dd3-4809-815a-7a6960c56476",
   "metadata": {},
   "outputs": [],
   "source": []
  }
 ],
 "metadata": {
  "kernelspec": {
   "display_name": "Python 3 (ipykernel)",
   "language": "python",
   "name": "python3"
  },
  "language_info": {
   "codemirror_mode": {
    "name": "ipython",
    "version": 3
   },
   "file_extension": ".py",
   "mimetype": "text/x-python",
   "name": "python",
   "nbconvert_exporter": "python",
   "pygments_lexer": "ipython3",
   "version": "3.8.10"
  }
 },
 "nbformat": 4,
 "nbformat_minor": 5
}
