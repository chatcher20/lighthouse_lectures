{
 "cells": [
  {
   "cell_type": "markdown",
   "id": "477eb43d-8bd7-4ca8-8546-4754c838fac5",
   "metadata": {},
   "source": [
    "# Tidy Data\n",
    "\n",
    "- [*Tidy Data*](https://vita.had.co.nz/papers/tidy-data.pdf) by Hadley Wickham\n",
    "\n",
    "![rows/columns/values](../images/01_tidy_data.png)"
   ]
  },
  {
   "cell_type": "markdown",
   "id": "5e1a4aac-7282-4fc7-b906-d3f1d0a77acb",
   "metadata": {
    "tags": []
   },
   "source": [
    "## Examples of Untidy data\n",
    "\n",
    "### ex. 1\n",
    "\n",
    "- dataset: `puppies`\n",
    "- info: measuring the weights (kg) of puppies after 6 months and 24 months\n",
    "\n",
    "\n",
    "| name  | 6 | 24 |\n",
    "|----|----|----|\n",
    "| pippa | 8 | 12 |\n",
    "| prairie | 5 | 10 |\n",
    "\n",
    "\n",
    "* the column names aren't variables rather values of a variable (age).\n",
    "\n",
    "\n",
    "### ex. 2\n",
    "\n",
    "- dataset: `test_scores`\n",
    "- info: documenting test scores of students\n",
    "\n",
    "\n",
    "| student_id | test_name | score |\n",
    "| ---------- | --------- | ----- |\n",
    "| 1          | bio       | 76/100|\n",
    "| 2          | bio       | 90/100|\n",
    "| 1          | anthro    | 200/250|\n",
    "\n",
    "* `score` column is a composite value of `points earned` over `points available`\n"
   ]
  },
  {
   "cell_type": "markdown",
   "id": "584ef989-5cae-4d9d-bf00-972e4eb19b49",
   "metadata": {},
   "source": [
    "## Our turn \n",
    "### Why are these tables untidy?\n",
    "\n",
    "**need to fill out**"
   ]
  }
 ],
 "metadata": {
  "kernelspec": {
   "display_name": "Python 3 (ipykernel)",
   "language": "python",
   "name": "python3"
  },
  "language_info": {
   "codemirror_mode": {
    "name": "ipython",
    "version": 3
   },
   "file_extension": ".py",
   "mimetype": "text/x-python",
   "name": "python",
   "nbconvert_exporter": "python",
   "pygments_lexer": "ipython3",
   "version": "3.8.10"
  }
 },
 "nbformat": 4,
 "nbformat_minor": 5
}
